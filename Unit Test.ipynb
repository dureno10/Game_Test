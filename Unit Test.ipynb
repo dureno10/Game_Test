{
 "cells": [
  {
   "cell_type": "code",
   "execution_count": 4,
   "id": "1f468c8e",
   "metadata": {},
   "outputs": [
    {
     "name": "stderr",
     "output_type": "stream",
     "text": [
      "E\n",
      "======================================================================\n",
      "ERROR: C:\\Users\\jtbye\\AppData\\Roaming\\jupyter\\runtime\\kernel-a5c48f27-d04a-4de7-a529-3d15c127a6ff (unittest.loader._FailedTest.C:\\Users\\jtbye\\AppData\\Roaming\\jupyter\\runtime\\kernel-a5c48f27-d04a-4de7-a529-3d15c127a6ff)\n",
      "----------------------------------------------------------------------\n",
      "AttributeError: module '__main__' has no attribute 'C:\\Users\\jtbye\\AppData\\Roaming\\jupyter\\runtime\\kernel-a5c48f27-d04a-4de7-a529-3d15c127a6ff'\n",
      "\n",
      "----------------------------------------------------------------------\n",
      "Ran 1 test in 0.002s\n",
      "\n",
      "FAILED (errors=1)\n"
     ]
    },
    {
     "ename": "SystemExit",
     "evalue": "True",
     "output_type": "error",
     "traceback": [
      "An exception has occurred, use %tb to see the full traceback.\n",
      "\u001b[1;31mSystemExit\u001b[0m\u001b[1;31m:\u001b[0m True\n"
     ]
    },
    {
     "name": "stderr",
     "output_type": "stream",
     "text": [
      "C:\\Users\\jtbye\\anaconda3\\Lib\\site-packages\\IPython\\core\\interactiveshell.py:3534: UserWarning: To exit: use 'exit', 'quit', or Ctrl-D.\n",
      "  warn(\"To exit: use 'exit', 'quit', or Ctrl-D.\", stacklevel=1)\n"
     ]
    }
   ],
   "source": [
    "import unittest\n",
    "from THEGAME import Character, Dinosaur, Robot, Monster, generate_enemy\n",
    "\n",
    "class TestCharacter(unittest.TestCase):\n",
    "    def setUp(self):\n",
    "        self.player = Character(\"Player\", 1000, 100)\n",
    "\n",
    "    def test_is_alive(self):\n",
    "        self.assertTrue(self.player.is_alive())\n",
    "        self.player.health = 0\n",
    "        self.assertFalse(self.player.is_alive())\n",
    "\n",
    "    def test_take_damage(self):\n",
    "        initial_health = self.player.health\n",
    "        damage = 50\n",
    "        self.player.take_damage(damage)\n",
    "        self.assertEqual(self.player.health, initial_health - damage)\n",
    "\n",
    "    def test_attack_target(self):\n",
    "        enemy = Character(\"Enemy\", 500, 50)\n",
    "        initial_enemy_health = enemy.health\n",
    "        self.player.attack_target(enemy)\n",
    "        self.assertEqual(enemy.health, initial_enemy_health - self.player.attack)\n",
    "\n",
    "class TestDinosaur(unittest.TestCase):\n",
    "    def setUp(self):\n",
    "        self.dinosaur = Dinosaur(\"T-Rex\", 800, 80, 70)\n",
    "\n",
    "    def test_attack_defense(self):\n",
    "        enemy = Character(\"Enemy\", 500, 50)\n",
    "        initial_enemy_health = enemy.health\n",
    "        self.dinosaur.attack_defense(enemy)\n",
    "        self.assertEqual(enemy.health, initial_enemy_health - max(0, self.dinosaur.attack - self.dinosaur.defense))\n",
    "\n",
    "class TestRobot(unittest.TestCase):\n",
    "    def setUp(self):\n",
    "        self.robot = Robot(\"Wall-E\", 900, 70, 20)\n",
    "\n",
    "    def test_dodge(self):\n",
    "        enemy = Character(\"Enemy\", 500, 50)\n",
    "        initial_enemy_health = enemy.health\n",
    "        self.robot.attack_target(enemy)\n",
    "        if enemy.health == initial_enemy_health:\n",
    "            self.assertEqual(enemy.health, initial_enemy_health)\n",
    "\n",
    "class TestMonster(unittest.TestCase):\n",
    "    def setUp(self):\n",
    "        self.monster = Monster(\"Godzilla\", 1200, 100, 20)\n",
    "\n",
    "    def test_critical_hit(self):\n",
    "        enemy = Character(\"Enemy\", 500, 50)\n",
    "        initial_enemy_health = enemy.health\n",
    "        self.monster.attack_target(enemy)\n",
    "        if enemy.health != initial_enemy_health:\n",
    "            self.assertEqual(enemy.health, initial_enemy_health - self.monster.attack * 2)\n",
    "\n",
    "class TestGenerateEnemy(unittest.TestCase):\n",
    "    def test_generate_enemy(self):\n",
    "        for _ in range(10):\n",
    "            enemy = generate_enemy()\n",
    "            self.assertTrue(isinstance(enemy, (Dinosaur, Robot, Monster)))\n",
    "\n",
    "if __name__ == '__main__':\n",
    "    unittest.main()"
   ]
  },
  {
   "cell_type": "code",
   "execution_count": null,
   "id": "a3d667c9",
   "metadata": {},
   "outputs": [],
   "source": []
  }
 ],
 "metadata": {
  "kernelspec": {
   "display_name": "Python 3 (ipykernel)",
   "language": "python",
   "name": "python3"
  },
  "language_info": {
   "codemirror_mode": {
    "name": "ipython",
    "version": 3
   },
   "file_extension": ".py",
   "mimetype": "text/x-python",
   "name": "python",
   "nbconvert_exporter": "python",
   "pygments_lexer": "ipython3",
   "version": "3.11.5"
  }
 },
 "nbformat": 4,
 "nbformat_minor": 5
}
