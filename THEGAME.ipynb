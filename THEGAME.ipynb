{
 "cells": [
  {
   "cell_type": "code",
   "execution_count": null,
   "id": "c303b166-0630-47e3-a4aa-eee724001853",
   "metadata": {
    "tags": []
   },
   "outputs": [
    {
     "name": "stdout",
     "output_type": "stream",
     "text": [
      "\n",
      "=== Level 1 ===\n",
      "A wild Pterodactyl appears!\n",
      "\n",
      "Your HP: 1000 | Pterodactyl's HP: 846\n",
      "\n"
     ]
    },
    {
     "name": "stdin",
     "output_type": "stream",
     "text": [
      "What will you do? (attack/flee):  attack\n"
     ]
    },
    {
     "name": "stdout",
     "output_type": "stream",
     "text": [
      "Player attacks Pterodactyl for 100 damage!\n",
      "Pterodactyl attacks Player for 12 damage!\n",
      "Your HP: 988 | Pterodactyl's HP: 746\n",
      "\n"
     ]
    },
    {
     "name": "stdin",
     "output_type": "stream",
     "text": [
      "What will you do? (attack/flee):  attack\n"
     ]
    },
    {
     "name": "stdout",
     "output_type": "stream",
     "text": [
      "Player attacks Pterodactyl for 100 damage!\n",
      "Pterodactyl attacks Player for 12 damage!\n",
      "Your HP: 976 | Pterodactyl's HP: 646\n",
      "\n"
     ]
    },
    {
     "name": "stdin",
     "output_type": "stream",
     "text": [
      "What will you do? (attack/flee):  attack\n"
     ]
    },
    {
     "name": "stdout",
     "output_type": "stream",
     "text": [
      "Player attacks Pterodactyl for 100 damage!\n",
      "Pterodactyl attacks Player for 12 damage!\n",
      "Your HP: 964 | Pterodactyl's HP: 546\n",
      "\n"
     ]
    },
    {
     "name": "stdin",
     "output_type": "stream",
     "text": [
      "What will you do? (attack/flee):  attack\n"
     ]
    },
    {
     "name": "stdout",
     "output_type": "stream",
     "text": [
      "Player attacks Pterodactyl for 100 damage!\n",
      "Pterodactyl attacks Player for 12 damage!\n",
      "Your HP: 952 | Pterodactyl's HP: 446\n",
      "\n"
     ]
    },
    {
     "name": "stdin",
     "output_type": "stream",
     "text": [
      "What will you do? (attack/flee):  attack\n"
     ]
    },
    {
     "name": "stdout",
     "output_type": "stream",
     "text": [
      "Player attacks Pterodactyl for 100 damage!\n",
      "Pterodactyl attacks Player for 12 damage!\n",
      "Your HP: 940 | Pterodactyl's HP: 346\n",
      "\n"
     ]
    },
    {
     "name": "stdin",
     "output_type": "stream",
     "text": [
      "What will you do? (attack/flee):  attack\n"
     ]
    },
    {
     "name": "stdout",
     "output_type": "stream",
     "text": [
      "Player attacks Pterodactyl for 100 damage!\n",
      "Pterodactyl attacks Player for 12 damage!\n",
      "Your HP: 928 | Pterodactyl's HP: 246\n",
      "\n"
     ]
    },
    {
     "name": "stdin",
     "output_type": "stream",
     "text": [
      "What will you do? (attack/flee):  attack\n"
     ]
    },
    {
     "name": "stdout",
     "output_type": "stream",
     "text": [
      "Player attacks Pterodactyl for 100 damage!\n",
      "Pterodactyl attacks Player for 12 damage!\n",
      "Your HP: 916 | Pterodactyl's HP: 146\n",
      "\n"
     ]
    },
    {
     "name": "stdin",
     "output_type": "stream",
     "text": [
      "What will you do? (attack/flee):  attack\n"
     ]
    },
    {
     "name": "stdout",
     "output_type": "stream",
     "text": [
      "Player attacks Pterodactyl for 100 damage!\n",
      "Pterodactyl attacks Player for 12 damage!\n",
      "Your HP: 904 | Pterodactyl's HP: 46\n",
      "\n"
     ]
    },
    {
     "name": "stdin",
     "output_type": "stream",
     "text": [
      "What will you do? (attack/flee):  attack\n"
     ]
    },
    {
     "name": "stdout",
     "output_type": "stream",
     "text": [
      "Player attacks Pterodactyl for 100 damage!\n",
      "You defeated the Pterodactyl!\n",
      "\n",
      "=== Level 2 ===\n",
      "A wild King Kong appears!\n",
      "\n",
      "Your HP: 904 | King Kong's HP: 924\n",
      "\n"
     ]
    },
    {
     "name": "stdin",
     "output_type": "stream",
     "text": [
      "What will you do? (attack/flee):  attack\n"
     ]
    },
    {
     "name": "stdout",
     "output_type": "stream",
     "text": [
      "Player attacks King Kong for 100 damage!\n",
      "King Kong attacks Player for 96 damage!\n",
      "Your HP: 808 | King Kong's HP: 824\n",
      "\n"
     ]
    },
    {
     "name": "stdin",
     "output_type": "stream",
     "text": [
      "What will you do? (attack/flee):  flee\n"
     ]
    },
    {
     "name": "stdout",
     "output_type": "stream",
     "text": [
      "You successfully fled from battle!\n",
      "\n",
      "=== Level 3 ===\n",
      "A wild Wall-E appears!\n",
      "\n",
      "Your HP: 808 | Wall-E's HP: 754\n",
      "\n"
     ]
    },
    {
     "name": "stdin",
     "output_type": "stream",
     "text": [
      "What will you do? (attack/flee):  attack\n"
     ]
    },
    {
     "name": "stdout",
     "output_type": "stream",
     "text": [
      "Player attacks Wall-E for 100 damage!\n",
      "Wall-E attacks Player for 56 damage!\n",
      "Your HP: 752 | Wall-E's HP: 654\n",
      "\n"
     ]
    },
    {
     "name": "stdin",
     "output_type": "stream",
     "text": [
      "What will you do? (attack/flee):  attack\n"
     ]
    },
    {
     "name": "stdout",
     "output_type": "stream",
     "text": [
      "Player attacks Wall-E for 100 damage!\n",
      "Wall-E attacks Player for 56 damage!\n",
      "Your HP: 696 | Wall-E's HP: 554\n",
      "\n"
     ]
    }
   ],
   "source": [
    "import random \n",
    "\n",
    "class Character:\n",
    "    def __init__(self, name, health, attack):\n",
    "        self.name = name\n",
    "        self.health = health\n",
    "        self.attack = attack\n",
    "    \n",
    "    def is_alive(self):\n",
    "        return self.health > 0\n",
    "    \n",
    "    def take_damage(self, damage):\n",
    "        self.health -= damage\n",
    "        if self.health < 0:\n",
    "            self.health = 0\n",
    "    \n",
    "    def attack_target(self, target):\n",
    "        damage = max(0, self.attack)\n",
    "        target.take_damage(damage)\n",
    "        print(f\"{self.name} attacks {target.name} for {damage} damage!\")\n",
    "\n",
    "class Dinosaur(Character):\n",
    "    def __init__(self, name, health, attack, defense):\n",
    "        super().__init__(name, health, attack)\n",
    "        self.defense = defense\n",
    "        \n",
    "#unused def defense_hit\n",
    "        \n",
    "    def attack_mod(self, target):\n",
    "        damage = max(0, self.attack - self.defense)\n",
    "        target.take_damage(damage)\n",
    "        print(f\"{self.name} attacks {target.name} for {damage} damage!\")\n",
    "        \n",
    "    def attack_target(self, target):\n",
    "        if self.defense == 0:\n",
    "            damage = max(0, self.attack)\n",
    "            target.take_damage(damage)\n",
    "            print(f\"{self.name} attacks {target.name} for {damage} damage!\")\n",
    "        else:\n",
    "            self.attack_mod(target)\n",
    "\n",
    "class Robot(Character):\n",
    "    def __init__(self, name, health, attack, dodge):\n",
    "        super().__init__(name, health, attack)\n",
    "        self.dodge = dodge\n",
    "        \n",
    "class Monster(Character):\n",
    "    def __init__(self, name, health, attack, critical_hit):\n",
    "        super().__init__(name, health, attack)\n",
    "        self.critical_hit = critical_hit\n",
    "\n",
    "#Deleted unused Classes (Weapon/Weak/strong)\n",
    "\n",
    "def generate_enemy():\n",
    "    enemy_type = random.choice([\"Dinosaur\", \"Robot\", \"Monster\"])\n",
    "    if enemy_type == \"Dinosaur\":\n",
    "        name = random.choice([\"Tyranosaurous\", \"Stegasaurous\", \"Pterodactyl\"])\n",
    "        health = random.randint(600, 900)\n",
    "        attack = random.randint(60, 90)\n",
    "        defense = random.randint(50, 80)\n",
    "        return Dinosaur(name, health, attack, defense)\n",
    "    elif enemy_type == \"Robot\":\n",
    "        name = random.choice([\"Iron Giant\", \"Wall-E\", \"Terminator\"])\n",
    "        health = random.randint(600, 1000)\n",
    "        attack = random.randint(40, 90)\n",
    "        dodge = random.randint(10, 30)\n",
    "        return Robot(name, health, attack, dodge)\n",
    "    else:  # Monster\n",
    "        name = random.choice([\"Godzilla\", \"King Kong\", \"Mothra\"])\n",
    "        health = random.randint(800, 1200)\n",
    "        attack = random.randint(70, 110)\n",
    "        critical_hit = random.randint(10, 30)\n",
    "        return Monster(name, health, attack, critical_hit)\n",
    "\n",
    "def main():\n",
    "    player = Character(\"Player\", 1000, 100)\n",
    "    levels = 5\n",
    "    \n",
    "    for level in range(1, levels + 1):\n",
    "        print(f\"\\n=== Level {level} ===\")\n",
    "        enemy = generate_enemy()\n",
    "        print(f\"A wild {enemy.name} appears!\\n\")\n",
    "        \n",
    "        while player.is_alive() and enemy.is_alive():\n",
    "            print(f\"Your HP: {player.health} | {enemy.name}'s HP: {enemy.health}\\n\")\n",
    "            action = input(\"What will you do? (attack/flee): \").lower()\n",
    "            if action == \"attack\":\n",
    "                player.attack_target(enemy)\n",
    "                if enemy.is_alive():\n",
    "                    enemy.attack_target(player)\n",
    "            elif action == \"flee\":\n",
    "                print(\"You successfully fled from battle!\")\n",
    "                break\n",
    "            else:\n",
    "                print(\"Invalid action! Choose 'attack' or 'flee'.\")\n",
    "        else:\n",
    "            if player.is_alive():\n",
    "                print(f\"You defeated the {enemy.name}!\")\n",
    "            else:\n",
    "                print(\"Game Over! You were defeated.\")\n",
    "                break\n",
    "\n",
    "if __name__ == \"__main__\":\n",
    "    main()\n"
   ]
  },
  {
   "cell_type": "code",
   "execution_count": null,
   "id": "daa34eb4-35b4-4377-a0fc-62b85e65fbfc",
   "metadata": {},
   "outputs": [],
   "source": []
  }
 ],
 "metadata": {
  "kernelspec": {
   "display_name": "Python 3 (ipykernel)",
   "language": "python",
   "name": "python3"
  },
  "language_info": {
   "codemirror_mode": {
    "name": "ipython",
    "version": 3
   },
   "file_extension": ".py",
   "mimetype": "text/x-python",
   "name": "python",
   "nbconvert_exporter": "python",
   "pygments_lexer": "ipython3",
   "version": "3.11.5"
  }
 },
 "nbformat": 4,
 "nbformat_minor": 5
}
